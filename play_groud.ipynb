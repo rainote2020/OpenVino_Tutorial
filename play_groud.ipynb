{
 "cells": [
  {
   "cell_type": "code",
   "execution_count": null,
   "metadata": {},
   "outputs": [],
   "source": [
    "import cv2 as cv\n",
    "import numpy as np\n",
    "import openvino as ov\n",
    "import time\n",
    "from pathlib import Path\n",
    "import os\n",
    "from ov_inference_paddleocr import PaddleOCR\n",
    "\n",
    "\n",
    "FILE_ROOT = Path()\n",
    "\n",
    "\n",
    "MODEL_NAME = Path(\"inference.pdmodel\")\n",
    "\n",
    "\n",
    "DICT_NAME = Path(\"dict.txt\")\n",
    "\n",
    "\n",
    "start = time.perf_counter() * 1000\n",
    "\n",
    "\n",
    "ocr_model = PaddleOCR(FILE_ROOT / MODEL_NAME, FILE_ROOT / DICT_NAME)\n",
    "\n",
    "\n",
    "print(\"load time = {}ms\".format(time.perf_counter() * 1000 - start))"
   ]
  },
  {
   "cell_type": "code",
   "execution_count": null,
   "metadata": {},
   "outputs": [],
   "source": [
    "# input_frame = cv.imread(FILE_ROOT / \"display_59.74.jpg\")\n",
    "# output = ocr_model.inference_once(input_frame)\n",
    "# print(output[0][0])\n",
    "# # # for i in range(20):\n",
    "# # #     print(ocr_model.inference_once(input_frame))"
   ]
  },
  {
   "cell_type": "markdown",
   "metadata": {},
   "source": [
    "遍历给定的目录中所有后缀为jpg的图片"
   ]
  },
  {
   "cell_type": "code",
   "execution_count": null,
   "metadata": {},
   "outputs": [],
   "source": [
    "def process_dir(dir_path: str, model) -> None:\n",
    "    img_list = os.listdir(dir_path)\n",
    "\n",
    "    error_num = 0\n",
    "    for img_name in img_list:\n",
    "        if img_name[len(img_name) - 3 :] != \"jpg\":\n",
    "            continue\n",
    "        input_frame = cv.imread(dir_path / f\"{img_name}\")\n",
    "\n",
    "        # text = model.inference_once_perfcount(input_frame)[0][0]\n",
    "        text = model.inference_once(input_frame)[0][0]\n",
    "        label = img_name.split(\"_\")\n",
    "        label = label[len(label) - 1]\n",
    "        label = label[: len(label) - 4]\n",
    "        if label != text:\n",
    "            print(\"* {}  * {}  * file:{}\".format(text.ljust(10), label.ljust(10), img_name))\n",
    "            error_num += 1\n",
    "    print(f\"errer num = {error_num}\")\n",
    "\n",
    "\n",
    "process_dir(\n",
    "    Path(),\n",
    "    ocr_model,\n",
    ")"
   ]
  },
  {
   "cell_type": "code",
   "execution_count": null,
   "metadata": {},
   "outputs": [],
   "source": []
  }
 ],
 "metadata": {
  "kernelspec": {
   "display_name": "Python 3",
   "language": "python",
   "name": "python3"
  },
  "language_info": {
   "codemirror_mode": {
    "name": "ipython",
    "version": 3
   },
   "file_extension": ".py",
   "mimetype": "text/x-python",
   "name": "python",
   "nbconvert_exporter": "python",
   "pygments_lexer": "ipython3",
   "version": "3.12.7"
  }
 },
 "nbformat": 4,
 "nbformat_minor": 2
}
