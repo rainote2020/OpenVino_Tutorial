{
 "cells": [
  {
   "cell_type": "code",
   "execution_count": null,
   "metadata": {},
   "outputs": [],
   "source": [
    "import cv2 as cv\n",
    "import numpy as np\n",
    "import openvino as ov\n",
    "import time\n",
    "from pathlib import Path"
   ]
  },
  {
   "cell_type": "code",
   "execution_count": null,
   "metadata": {},
   "outputs": [],
   "source": [
    "from ov_inference_paddleocr import PaddleOCR\n",
    "\n",
    "\n",
    "FILE_ROOT = Path()\n",
    "MODEL_NAME = Path(\"inference.pdmodel\")\n",
    "DICT_NAME = Path(\"dict.txt\")\n",
    "\n",
    "\n",
    "start = time.perf_counter() * 1000\n",
    "ocr_model = PaddleOCR(FILE_ROOT / MODEL_NAME, FILE_ROOT / DICT_NAME)\n",
    "\n",
    "print(\"load time = \".format(time.perf_counter() * 1000 - start))\n",
    "input_frame = cv.imread(FILE_ROOT / \"\")\n",
    "\n",
    "for i in range(20):\n",
    "    print(ocr_model.inference_once(input_frame))"
   ]
  }
 ],
 "metadata": {
  "kernelspec": {
   "display_name": "Python 3",
   "language": "python",
   "name": "python3"
  },
  "language_info": {
   "codemirror_mode": {
    "name": "ipython",
    "version": 3
   },
   "file_extension": ".py",
   "mimetype": "text/x-python",
   "name": "python",
   "nbconvert_exporter": "python",
   "pygments_lexer": "ipython3",
   "version": "3.12.7"
  }
 },
 "nbformat": 4,
 "nbformat_minor": 2
}
